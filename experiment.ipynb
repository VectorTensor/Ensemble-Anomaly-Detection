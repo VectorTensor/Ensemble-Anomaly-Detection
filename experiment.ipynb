{
 "cells": [
  {
   "cell_type": "code",
   "id": "initial_id",
   "metadata": {
    "collapsed": true,
    "ExecuteTime": {
     "end_time": "2025-05-09T09:33:00.231076Z",
     "start_time": "2025-05-09T09:33:00.225794Z"
    }
   },
   "source": [
    "from sklearn.ensemble import IsolationForest\n",
    "\n",
    "from ensemble_model import AnomalyEnsembleMonad\n",
    "import pandas as pd"
   ],
   "outputs": [],
   "execution_count": 39
  },
  {
   "metadata": {
    "ExecuteTime": {
     "end_time": "2025-05-09T09:33:00.419282Z",
     "start_time": "2025-05-09T09:33:00.399135Z"
    }
   },
   "cell_type": "code",
   "source": "data = pd.read_csv(\"src/test_data.csv\")",
   "id": "ec4d1556ac93d8d2",
   "outputs": [],
   "execution_count": 40
  },
  {
   "metadata": {
    "ExecuteTime": {
     "end_time": "2025-05-09T09:33:00.597997Z",
     "start_time": "2025-05-09T09:33:00.579878Z"
    }
   },
   "cell_type": "code",
   "source": "data",
   "id": "5baee9071a1d960f",
   "outputs": [
    {
     "data": {
      "text/plain": [
       "     TransactionID AccountID  TransactionAmount      TransactionDate  \\\n",
       "0         TX000001   AC00128              14.09  2023-04-11 16:29:14   \n",
       "1         TX000002   AC00455             376.24  2023-06-27 16:44:19   \n",
       "2         TX000003   AC00019             126.29  2023-07-10 18:16:08   \n",
       "3         TX000004   AC00070             184.50  2023-05-05 16:32:11   \n",
       "4         TX000005   AC00411              13.45  2023-10-16 17:51:24   \n",
       "...            ...       ...                ...                  ...   \n",
       "2507      TX002508   AC00297             856.21  2023-04-26 17:09:36   \n",
       "2508      TX002509   AC00322             251.54  2023-03-22 17:36:48   \n",
       "2509      TX002510   AC00095              28.63  2023-08-21 17:08:50   \n",
       "2510      TX002511   AC00118             185.97  2023-02-24 16:24:46   \n",
       "2511      TX002512   AC00009             243.08  2023-02-14 16:21:23   \n",
       "\n",
       "     TransactionType          Location DeviceID      IP Address MerchantID  \\\n",
       "0              Debit         San Diego  D000380  162.198.218.92       M015   \n",
       "1              Debit           Houston  D000051     13.149.61.4       M052   \n",
       "2              Debit              Mesa  D000235  215.97.143.157       M009   \n",
       "3              Debit           Raleigh  D000187  200.13.225.150       M002   \n",
       "4             Credit           Atlanta  D000308    65.164.3.100       M091   \n",
       "...              ...               ...      ...             ...        ...   \n",
       "2507          Credit  Colorado Springs  D000625    21.157.41.17       M072   \n",
       "2508           Debit            Tucson  D000410  49.174.157.140       M029   \n",
       "2509           Debit         San Diego  D000095     58.1.27.124       M087   \n",
       "2510           Debit            Denver  D000634   21.190.11.223       M041   \n",
       "2511          Credit      Jacksonville  D000215   59.127.135.25       M041   \n",
       "\n",
       "     Channel  CustomerAge CustomerOccupation  TransactionDuration  \\\n",
       "0        ATM           70             Doctor                   81   \n",
       "1        ATM           68             Doctor                  141   \n",
       "2     Online           19            Student                   56   \n",
       "3     Online           26            Student                   25   \n",
       "4     Online           26            Student                  198   \n",
       "...      ...          ...                ...                  ...   \n",
       "2507  Branch           33             Doctor                  109   \n",
       "2508  Branch           48             Doctor                  177   \n",
       "2509  Branch           56            Retired                  146   \n",
       "2510  Online           23            Student                   19   \n",
       "2511  Online           24            Student                   93   \n",
       "\n",
       "      LoginAttempts  AccountBalance PreviousTransactionDate  \n",
       "0                 1         5112.21     2024-11-04 08:08:08  \n",
       "1                 1        13758.91     2024-11-04 08:09:35  \n",
       "2                 1         1122.35     2024-11-04 08:07:04  \n",
       "3                 1         8569.06     2024-11-04 08:09:06  \n",
       "4                 1         7429.40     2024-11-04 08:06:39  \n",
       "...             ...             ...                     ...  \n",
       "2507              1        12690.79     2024-11-04 08:11:29  \n",
       "2508              1          254.75     2024-11-04 08:11:42  \n",
       "2509              1         3382.91     2024-11-04 08:08:39  \n",
       "2510              1         1776.91     2024-11-04 08:12:22  \n",
       "2511              1          131.25     2024-11-04 08:07:49  \n",
       "\n",
       "[2512 rows x 16 columns]"
      ],
      "text/html": [
       "<div>\n",
       "<style scoped>\n",
       "    .dataframe tbody tr th:only-of-type {\n",
       "        vertical-align: middle;\n",
       "    }\n",
       "\n",
       "    .dataframe tbody tr th {\n",
       "        vertical-align: top;\n",
       "    }\n",
       "\n",
       "    .dataframe thead th {\n",
       "        text-align: right;\n",
       "    }\n",
       "</style>\n",
       "<table border=\"1\" class=\"dataframe\">\n",
       "  <thead>\n",
       "    <tr style=\"text-align: right;\">\n",
       "      <th></th>\n",
       "      <th>TransactionID</th>\n",
       "      <th>AccountID</th>\n",
       "      <th>TransactionAmount</th>\n",
       "      <th>TransactionDate</th>\n",
       "      <th>TransactionType</th>\n",
       "      <th>Location</th>\n",
       "      <th>DeviceID</th>\n",
       "      <th>IP Address</th>\n",
       "      <th>MerchantID</th>\n",
       "      <th>Channel</th>\n",
       "      <th>CustomerAge</th>\n",
       "      <th>CustomerOccupation</th>\n",
       "      <th>TransactionDuration</th>\n",
       "      <th>LoginAttempts</th>\n",
       "      <th>AccountBalance</th>\n",
       "      <th>PreviousTransactionDate</th>\n",
       "    </tr>\n",
       "  </thead>\n",
       "  <tbody>\n",
       "    <tr>\n",
       "      <th>0</th>\n",
       "      <td>TX000001</td>\n",
       "      <td>AC00128</td>\n",
       "      <td>14.09</td>\n",
       "      <td>2023-04-11 16:29:14</td>\n",
       "      <td>Debit</td>\n",
       "      <td>San Diego</td>\n",
       "      <td>D000380</td>\n",
       "      <td>162.198.218.92</td>\n",
       "      <td>M015</td>\n",
       "      <td>ATM</td>\n",
       "      <td>70</td>\n",
       "      <td>Doctor</td>\n",
       "      <td>81</td>\n",
       "      <td>1</td>\n",
       "      <td>5112.21</td>\n",
       "      <td>2024-11-04 08:08:08</td>\n",
       "    </tr>\n",
       "    <tr>\n",
       "      <th>1</th>\n",
       "      <td>TX000002</td>\n",
       "      <td>AC00455</td>\n",
       "      <td>376.24</td>\n",
       "      <td>2023-06-27 16:44:19</td>\n",
       "      <td>Debit</td>\n",
       "      <td>Houston</td>\n",
       "      <td>D000051</td>\n",
       "      <td>13.149.61.4</td>\n",
       "      <td>M052</td>\n",
       "      <td>ATM</td>\n",
       "      <td>68</td>\n",
       "      <td>Doctor</td>\n",
       "      <td>141</td>\n",
       "      <td>1</td>\n",
       "      <td>13758.91</td>\n",
       "      <td>2024-11-04 08:09:35</td>\n",
       "    </tr>\n",
       "    <tr>\n",
       "      <th>2</th>\n",
       "      <td>TX000003</td>\n",
       "      <td>AC00019</td>\n",
       "      <td>126.29</td>\n",
       "      <td>2023-07-10 18:16:08</td>\n",
       "      <td>Debit</td>\n",
       "      <td>Mesa</td>\n",
       "      <td>D000235</td>\n",
       "      <td>215.97.143.157</td>\n",
       "      <td>M009</td>\n",
       "      <td>Online</td>\n",
       "      <td>19</td>\n",
       "      <td>Student</td>\n",
       "      <td>56</td>\n",
       "      <td>1</td>\n",
       "      <td>1122.35</td>\n",
       "      <td>2024-11-04 08:07:04</td>\n",
       "    </tr>\n",
       "    <tr>\n",
       "      <th>3</th>\n",
       "      <td>TX000004</td>\n",
       "      <td>AC00070</td>\n",
       "      <td>184.50</td>\n",
       "      <td>2023-05-05 16:32:11</td>\n",
       "      <td>Debit</td>\n",
       "      <td>Raleigh</td>\n",
       "      <td>D000187</td>\n",
       "      <td>200.13.225.150</td>\n",
       "      <td>M002</td>\n",
       "      <td>Online</td>\n",
       "      <td>26</td>\n",
       "      <td>Student</td>\n",
       "      <td>25</td>\n",
       "      <td>1</td>\n",
       "      <td>8569.06</td>\n",
       "      <td>2024-11-04 08:09:06</td>\n",
       "    </tr>\n",
       "    <tr>\n",
       "      <th>4</th>\n",
       "      <td>TX000005</td>\n",
       "      <td>AC00411</td>\n",
       "      <td>13.45</td>\n",
       "      <td>2023-10-16 17:51:24</td>\n",
       "      <td>Credit</td>\n",
       "      <td>Atlanta</td>\n",
       "      <td>D000308</td>\n",
       "      <td>65.164.3.100</td>\n",
       "      <td>M091</td>\n",
       "      <td>Online</td>\n",
       "      <td>26</td>\n",
       "      <td>Student</td>\n",
       "      <td>198</td>\n",
       "      <td>1</td>\n",
       "      <td>7429.40</td>\n",
       "      <td>2024-11-04 08:06:39</td>\n",
       "    </tr>\n",
       "    <tr>\n",
       "      <th>...</th>\n",
       "      <td>...</td>\n",
       "      <td>...</td>\n",
       "      <td>...</td>\n",
       "      <td>...</td>\n",
       "      <td>...</td>\n",
       "      <td>...</td>\n",
       "      <td>...</td>\n",
       "      <td>...</td>\n",
       "      <td>...</td>\n",
       "      <td>...</td>\n",
       "      <td>...</td>\n",
       "      <td>...</td>\n",
       "      <td>...</td>\n",
       "      <td>...</td>\n",
       "      <td>...</td>\n",
       "      <td>...</td>\n",
       "    </tr>\n",
       "    <tr>\n",
       "      <th>2507</th>\n",
       "      <td>TX002508</td>\n",
       "      <td>AC00297</td>\n",
       "      <td>856.21</td>\n",
       "      <td>2023-04-26 17:09:36</td>\n",
       "      <td>Credit</td>\n",
       "      <td>Colorado Springs</td>\n",
       "      <td>D000625</td>\n",
       "      <td>21.157.41.17</td>\n",
       "      <td>M072</td>\n",
       "      <td>Branch</td>\n",
       "      <td>33</td>\n",
       "      <td>Doctor</td>\n",
       "      <td>109</td>\n",
       "      <td>1</td>\n",
       "      <td>12690.79</td>\n",
       "      <td>2024-11-04 08:11:29</td>\n",
       "    </tr>\n",
       "    <tr>\n",
       "      <th>2508</th>\n",
       "      <td>TX002509</td>\n",
       "      <td>AC00322</td>\n",
       "      <td>251.54</td>\n",
       "      <td>2023-03-22 17:36:48</td>\n",
       "      <td>Debit</td>\n",
       "      <td>Tucson</td>\n",
       "      <td>D000410</td>\n",
       "      <td>49.174.157.140</td>\n",
       "      <td>M029</td>\n",
       "      <td>Branch</td>\n",
       "      <td>48</td>\n",
       "      <td>Doctor</td>\n",
       "      <td>177</td>\n",
       "      <td>1</td>\n",
       "      <td>254.75</td>\n",
       "      <td>2024-11-04 08:11:42</td>\n",
       "    </tr>\n",
       "    <tr>\n",
       "      <th>2509</th>\n",
       "      <td>TX002510</td>\n",
       "      <td>AC00095</td>\n",
       "      <td>28.63</td>\n",
       "      <td>2023-08-21 17:08:50</td>\n",
       "      <td>Debit</td>\n",
       "      <td>San Diego</td>\n",
       "      <td>D000095</td>\n",
       "      <td>58.1.27.124</td>\n",
       "      <td>M087</td>\n",
       "      <td>Branch</td>\n",
       "      <td>56</td>\n",
       "      <td>Retired</td>\n",
       "      <td>146</td>\n",
       "      <td>1</td>\n",
       "      <td>3382.91</td>\n",
       "      <td>2024-11-04 08:08:39</td>\n",
       "    </tr>\n",
       "    <tr>\n",
       "      <th>2510</th>\n",
       "      <td>TX002511</td>\n",
       "      <td>AC00118</td>\n",
       "      <td>185.97</td>\n",
       "      <td>2023-02-24 16:24:46</td>\n",
       "      <td>Debit</td>\n",
       "      <td>Denver</td>\n",
       "      <td>D000634</td>\n",
       "      <td>21.190.11.223</td>\n",
       "      <td>M041</td>\n",
       "      <td>Online</td>\n",
       "      <td>23</td>\n",
       "      <td>Student</td>\n",
       "      <td>19</td>\n",
       "      <td>1</td>\n",
       "      <td>1776.91</td>\n",
       "      <td>2024-11-04 08:12:22</td>\n",
       "    </tr>\n",
       "    <tr>\n",
       "      <th>2511</th>\n",
       "      <td>TX002512</td>\n",
       "      <td>AC00009</td>\n",
       "      <td>243.08</td>\n",
       "      <td>2023-02-14 16:21:23</td>\n",
       "      <td>Credit</td>\n",
       "      <td>Jacksonville</td>\n",
       "      <td>D000215</td>\n",
       "      <td>59.127.135.25</td>\n",
       "      <td>M041</td>\n",
       "      <td>Online</td>\n",
       "      <td>24</td>\n",
       "      <td>Student</td>\n",
       "      <td>93</td>\n",
       "      <td>1</td>\n",
       "      <td>131.25</td>\n",
       "      <td>2024-11-04 08:07:49</td>\n",
       "    </tr>\n",
       "  </tbody>\n",
       "</table>\n",
       "<p>2512 rows × 16 columns</p>\n",
       "</div>"
      ]
     },
     "execution_count": 41,
     "metadata": {},
     "output_type": "execute_result"
    }
   ],
   "execution_count": 41
  },
  {
   "metadata": {
    "ExecuteTime": {
     "end_time": "2025-05-09T09:33:00.817885Z",
     "start_time": "2025-05-09T09:33:00.811189Z"
    }
   },
   "cell_type": "code",
   "source": [
    "# df_encoded = pd.get_dummies(data, columns= [\"TransactionType\",\"Location\"], dtype=\"float64\")\n",
    "df_encoded = data\n",
    "df_encoded[\"TransactionType\"] = data[\"TransactionType\"].map(data[\"TransactionType\"].value_counts())\n",
    "df_encoded[\"Location\"] = data[\"Location\"].map(data[\"Location\"].value_counts())\n"
   ],
   "id": "d4193f118ed766e4",
   "outputs": [],
   "execution_count": 42
  },
  {
   "metadata": {
    "ExecuteTime": {
     "end_time": "2025-05-09T09:33:01.319299Z",
     "start_time": "2025-05-09T09:33:01.314764Z"
    }
   },
   "cell_type": "code",
   "source": "features = df_encoded.columns\n",
   "id": "d4833948bf7c6e7f",
   "outputs": [],
   "execution_count": 43
  },
  {
   "metadata": {
    "ExecuteTime": {
     "end_time": "2025-05-09T09:33:01.751868Z",
     "start_time": "2025-05-09T09:33:01.746940Z"
    }
   },
   "cell_type": "code",
   "source": "features",
   "id": "68143ecba01022ea",
   "outputs": [
    {
     "data": {
      "text/plain": [
       "Index(['TransactionID', 'AccountID', 'TransactionAmount', 'TransactionDate',\n",
       "       'TransactionType', 'Location', 'DeviceID', 'IP Address', 'MerchantID',\n",
       "       'Channel', 'CustomerAge', 'CustomerOccupation', 'TransactionDuration',\n",
       "       'LoginAttempts', 'AccountBalance', 'PreviousTransactionDate'],\n",
       "      dtype='object')"
      ]
     },
     "execution_count": 44,
     "metadata": {},
     "output_type": "execute_result"
    }
   ],
   "execution_count": 44
  },
  {
   "metadata": {
    "ExecuteTime": {
     "end_time": "2025-05-09T09:33:02.041490Z",
     "start_time": "2025-05-09T09:33:02.036173Z"
    }
   },
   "cell_type": "code",
   "source": [
    "def get_encoded_features(columns, key):\n",
    "    required_features = []\n",
    "    for f in columns:\n",
    "        if f.startswith(key):\n",
    "            required_features.append(f)\n",
    "    return required_features\n"
   ],
   "id": "3b9b8f73e8bd2287",
   "outputs": [],
   "execution_count": 45
  },
  {
   "metadata": {
    "ExecuteTime": {
     "end_time": "2025-05-09T09:33:05.291044Z",
     "start_time": "2025-05-09T09:33:05.287625Z"
    }
   },
   "cell_type": "code",
   "source": [
    "required_features = []\n",
    "# required_features += get_encoded_features(features, \"Location_\")\n",
    "# required_features += get_encoded_features(features, \"TransactionType_\")\n"
   ],
   "id": "1c601cf1f3da8329",
   "outputs": [],
   "execution_count": 46
  },
  {
   "metadata": {
    "ExecuteTime": {
     "end_time": "2025-05-09T09:33:05.714492Z",
     "start_time": "2025-05-09T09:33:05.709150Z"
    }
   },
   "cell_type": "code",
   "source": "required_features += [\"TransactionAmount\",\"TransactionID\",\"TransactionType\",\"Location\"]",
   "id": "a54e4f2b9f506a1c",
   "outputs": [],
   "execution_count": 47
  },
  {
   "metadata": {
    "ExecuteTime": {
     "end_time": "2025-05-09T09:33:08.375808Z",
     "start_time": "2025-05-09T09:33:08.373104Z"
    }
   },
   "cell_type": "code",
   "source": "",
   "id": "76fe4d90ab0dd522",
   "outputs": [],
   "execution_count": null
  },
  {
   "metadata": {
    "ExecuteTime": {
     "end_time": "2025-05-09T09:33:08.616157Z",
     "start_time": "2025-05-09T09:33:08.613491Z"
    }
   },
   "cell_type": "code",
   "source": "",
   "id": "2f6e21bee86fae6a",
   "outputs": [],
   "execution_count": null
  },
  {
   "metadata": {
    "ExecuteTime": {
     "end_time": "2025-05-09T09:33:09.108297Z",
     "start_time": "2025-05-09T09:33:09.104258Z"
    }
   },
   "cell_type": "code",
   "source": "input_features = df_encoded[required_features]",
   "id": "9a7dfa90a5a0a2c1",
   "outputs": [],
   "execution_count": 48
  },
  {
   "metadata": {
    "ExecuteTime": {
     "end_time": "2025-05-09T09:33:38.419668Z",
     "start_time": "2025-05-09T09:33:38.416352Z"
    }
   },
   "cell_type": "code",
   "source": "monad = AnomalyEnsembleMonad(input_features, [\"TransactionAmount\",\"TransactionType\",\"Location\"])",
   "id": "8bc00976de4202f2",
   "outputs": [],
   "execution_count": 49
  },
  {
   "metadata": {
    "ExecuteTime": {
     "end_time": "2025-05-09T09:34:32.165823Z",
     "start_time": "2025-05-09T09:34:31.921237Z"
    }
   },
   "cell_type": "code",
   "source": [
    "from ensemble_model import IsolationForestModel\n",
    "\n",
    "model = IsolationForest(\n",
    "    n_estimators=100,\n",
    "    max_samples=2000,\n",
    ")\n",
    "iso = IsolationForestModel(model)\n",
    "\n",
    "(monad.bind(iso.process))"
   ],
   "id": "6cf58dbe8dda3bfe",
   "outputs": [
    {
     "name": "stderr",
     "output_type": "stream",
     "text": [
      "/home/prayash/dev/Ensemble-Anomaly-Detection/src/ensemble_model.py:35: SettingWithCopyWarning: \n",
      "A value is trying to be set on a copy of a slice from a DataFrame.\n",
      "Try using .loc[row_indexer,col_indexer] = value instead\n",
      "\n",
      "See the caveats in the documentation: https://pandas.pydata.org/pandas-docs/stable/user_guide/indexing.html#returning-a-view-versus-a-copy\n",
      "  anomaly_monad.data_frame[self.column_name] = self.model.predict(features_matrix)\n"
     ]
    },
    {
     "data": {
      "text/plain": [
       "<ensemble_model.AnomalyEnsembleMonad at 0x74c4ac76e910>"
      ]
     },
     "execution_count": 54,
     "metadata": {},
     "output_type": "execute_result"
    }
   ],
   "execution_count": 54
  },
  {
   "metadata": {
    "ExecuteTime": {
     "end_time": "2025-05-09T09:34:32.371178Z",
     "start_time": "2025-05-09T09:34:32.358796Z"
    }
   },
   "cell_type": "code",
   "source": "monad.data_frame",
   "id": "b883b052b08fbce0",
   "outputs": [
    {
     "data": {
      "text/plain": [
       "      TransactionAmount TransactionID  TransactionType  Location  is_anomaly\n",
       "0                 14.09      TX000001             1944        59           1\n",
       "1                376.24      TX000002             1944        63           1\n",
       "2                126.29      TX000003             1944        61           1\n",
       "3                184.50      TX000004             1944        59           1\n",
       "4                 13.45      TX000005              568        61          -1\n",
       "...                 ...           ...              ...       ...         ...\n",
       "2507             856.21      TX002508              568        60          -1\n",
       "2508             251.54      TX002509             1944        67           1\n",
       "2509              28.63      TX002510             1944        59           1\n",
       "2510             185.97      TX002511             1944        62           1\n",
       "2511             243.08      TX002512              568        60           1\n",
       "\n",
       "[2512 rows x 5 columns]"
      ],
      "text/html": [
       "<div>\n",
       "<style scoped>\n",
       "    .dataframe tbody tr th:only-of-type {\n",
       "        vertical-align: middle;\n",
       "    }\n",
       "\n",
       "    .dataframe tbody tr th {\n",
       "        vertical-align: top;\n",
       "    }\n",
       "\n",
       "    .dataframe thead th {\n",
       "        text-align: right;\n",
       "    }\n",
       "</style>\n",
       "<table border=\"1\" class=\"dataframe\">\n",
       "  <thead>\n",
       "    <tr style=\"text-align: right;\">\n",
       "      <th></th>\n",
       "      <th>TransactionAmount</th>\n",
       "      <th>TransactionID</th>\n",
       "      <th>TransactionType</th>\n",
       "      <th>Location</th>\n",
       "      <th>is_anomaly</th>\n",
       "    </tr>\n",
       "  </thead>\n",
       "  <tbody>\n",
       "    <tr>\n",
       "      <th>0</th>\n",
       "      <td>14.09</td>\n",
       "      <td>TX000001</td>\n",
       "      <td>1944</td>\n",
       "      <td>59</td>\n",
       "      <td>1</td>\n",
       "    </tr>\n",
       "    <tr>\n",
       "      <th>1</th>\n",
       "      <td>376.24</td>\n",
       "      <td>TX000002</td>\n",
       "      <td>1944</td>\n",
       "      <td>63</td>\n",
       "      <td>1</td>\n",
       "    </tr>\n",
       "    <tr>\n",
       "      <th>2</th>\n",
       "      <td>126.29</td>\n",
       "      <td>TX000003</td>\n",
       "      <td>1944</td>\n",
       "      <td>61</td>\n",
       "      <td>1</td>\n",
       "    </tr>\n",
       "    <tr>\n",
       "      <th>3</th>\n",
       "      <td>184.50</td>\n",
       "      <td>TX000004</td>\n",
       "      <td>1944</td>\n",
       "      <td>59</td>\n",
       "      <td>1</td>\n",
       "    </tr>\n",
       "    <tr>\n",
       "      <th>4</th>\n",
       "      <td>13.45</td>\n",
       "      <td>TX000005</td>\n",
       "      <td>568</td>\n",
       "      <td>61</td>\n",
       "      <td>-1</td>\n",
       "    </tr>\n",
       "    <tr>\n",
       "      <th>...</th>\n",
       "      <td>...</td>\n",
       "      <td>...</td>\n",
       "      <td>...</td>\n",
       "      <td>...</td>\n",
       "      <td>...</td>\n",
       "    </tr>\n",
       "    <tr>\n",
       "      <th>2507</th>\n",
       "      <td>856.21</td>\n",
       "      <td>TX002508</td>\n",
       "      <td>568</td>\n",
       "      <td>60</td>\n",
       "      <td>-1</td>\n",
       "    </tr>\n",
       "    <tr>\n",
       "      <th>2508</th>\n",
       "      <td>251.54</td>\n",
       "      <td>TX002509</td>\n",
       "      <td>1944</td>\n",
       "      <td>67</td>\n",
       "      <td>1</td>\n",
       "    </tr>\n",
       "    <tr>\n",
       "      <th>2509</th>\n",
       "      <td>28.63</td>\n",
       "      <td>TX002510</td>\n",
       "      <td>1944</td>\n",
       "      <td>59</td>\n",
       "      <td>1</td>\n",
       "    </tr>\n",
       "    <tr>\n",
       "      <th>2510</th>\n",
       "      <td>185.97</td>\n",
       "      <td>TX002511</td>\n",
       "      <td>1944</td>\n",
       "      <td>62</td>\n",
       "      <td>1</td>\n",
       "    </tr>\n",
       "    <tr>\n",
       "      <th>2511</th>\n",
       "      <td>243.08</td>\n",
       "      <td>TX002512</td>\n",
       "      <td>568</td>\n",
       "      <td>60</td>\n",
       "      <td>1</td>\n",
       "    </tr>\n",
       "  </tbody>\n",
       "</table>\n",
       "<p>2512 rows × 5 columns</p>\n",
       "</div>"
      ]
     },
     "execution_count": 55,
     "metadata": {},
     "output_type": "execute_result"
    }
   ],
   "execution_count": 55
  },
  {
   "metadata": {},
   "cell_type": "code",
   "outputs": [],
   "execution_count": null,
   "source": "",
   "id": "347bbbd4647d0980"
  }
 ],
 "metadata": {
  "kernelspec": {
   "display_name": "Python 3",
   "language": "python",
   "name": "python3"
  },
  "language_info": {
   "codemirror_mode": {
    "name": "ipython",
    "version": 2
   },
   "file_extension": ".py",
   "mimetype": "text/x-python",
   "name": "python",
   "nbconvert_exporter": "python",
   "pygments_lexer": "ipython2",
   "version": "2.7.6"
  }
 },
 "nbformat": 4,
 "nbformat_minor": 5
}
